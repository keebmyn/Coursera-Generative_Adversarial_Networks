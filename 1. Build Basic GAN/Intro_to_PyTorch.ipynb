{
 "cells": [
  {
   "cell_type": "markdown",
   "metadata": {
    "colab_type": "text",
    "id": "j1k6Y9afpxL6"
   },
   "source": [
    "# Intro\n",
    "\n",
    "[PyTorch](https://pytorch.org/) is a very powerful machine learning framework. Central to PyTorch are [tensors](https://pytorch.org/docs/stable/tensors.html), a generalization of matrices to higher ranks. One intuitive example of a tensor is an image with three color channels: A 3-channel (red, green, blue) image which is 64 pixels wide and 64 pixels tall is a $3\\times64\\times64$ tensor. You can access the PyTorch framework by writing `import torch` near the top of your code, along with all of your other import statements.\n",
    "\n",
    "This guide will help introduce you to the functionality of PyTorch, but don't worry too much about memorizing it: the assignments will link to relevant documentation where necessary."
   ]
  },
  {
   "cell_type": "code",
   "execution_count": 1,
   "metadata": {
    "colab": {},
    "colab_type": "code",
    "id": "fwp6T5ZMteDC"
   },
   "outputs": [],
   "source": [
    "import torch"
   ]
  },
  {
   "cell_type": "markdown",
   "metadata": {
    "colab_type": "text",
    "id": "IvXp0rlPBqdQ"
   },
   "source": [
    "# Why PyTorch?\n",
    "\n",
    "One important question worth asking is, why is PyTorch being used for this course? There is a great breakdown by [the Gradient](https://thegradient.pub/state-of-ml-frameworks-2019-pytorch-dominates-research-tensorflow-dominates-industry/) looking at the state of machine learning frameworks today. In part, as highlighted by the article, PyTorch is generally more pythonic than alternative frameworks, easier to debug, and is the most-used language in machine learning research by a large and growing margin. While PyTorch's primary alternative, Tensorflow, has attempted to integrate many of PyTorch's features, Tensorflow's implementations come with some inherent limitations highlighted in the article.\n",
    "\n",
    "Notably, while PyTorch's industry usage has grown, Tensorflow is still (for now) a slight favorite in industry. In practice, the features that make PyTorch attractive for research also make it attractive for education, and the general trend of machine learning research and practice to PyTorch makes it the more proactive choice. "
   ]
  },
  {
   "cell_type": "markdown",
   "metadata": {
    "colab_type": "text",
    "id": "MCgwdP20r1yX"
   },
   "source": [
    "# Tensor Properties\n",
    "One way to create tensors from a list or an array is to use `torch.Tensor`. It'll be used to set up examples in this notebook, but you'll never need to use it in the course - in fact, if you find yourself needing it, that's probably not the correct answer. "
   ]
  },
  {
   "cell_type": "code",
   "execution_count": 2,
   "metadata": {},
   "outputs": [],
   "source": [
    "example_tensor2 = torch.Tensor(\n",
    "    [\n",
    "        [[1,2], [3,4]],\n",
    "        [[5,6], [7,8]],\n",
    "        [[9,0], [1,2]]\n",
    "    ]\n",
    ")"
   ]
  },
  {
   "cell_type": "code",
   "execution_count": 3,
   "metadata": {},
   "outputs": [
    {
     "data": {
      "text/plain": [
       "torch.Size([3, 2, 2])"
      ]
     },
     "execution_count": 3,
     "metadata": {},
     "output_type": "execute_result"
    }
   ],
   "source": [
    "example_tensor2.shape"
   ]
  },
  {
   "cell_type": "code",
   "execution_count": 4,
   "metadata": {
    "colab": {},
    "colab_type": "code",
    "id": "B0hgYekGsxlB"
   },
   "outputs": [],
   "source": [
    "example_tensor = torch.Tensor(\n",
    "    [\n",
    "     [[1, 2], [3, 4]], \n",
    "     [[5, 6], [7, 8]], \n",
    "     [[9, 0], [1, 2]]\n",
    "    ]\n",
    ")"
   ]
  },
  {
   "cell_type": "markdown",
   "metadata": {
    "colab_type": "text",
    "id": "9dO4C2oft7zq"
   },
   "source": [
    "You can view the tensor in the notebook by simple printing it out (though some larger tensors will be cut off)"
   ]
  },
  {
   "cell_type": "code",
   "execution_count": 5,
   "metadata": {
    "colab": {
     "base_uri": "https://localhost:8080/",
     "height": 153
    },
    "colab_type": "code",
    "id": "U2FKEzeYuEOX",
    "outputId": "dfa12ff7-afd1-4737-a669-54f36b4209dd"
   },
   "outputs": [
    {
     "data": {
      "text/plain": [
       "tensor([[[1., 2.],\n",
       "         [3., 4.]],\n",
       "\n",
       "        [[5., 6.],\n",
       "         [7., 8.]],\n",
       "\n",
       "        [[9., 0.],\n",
       "         [1., 2.]]])"
      ]
     },
     "execution_count": 5,
     "metadata": {},
     "output_type": "execute_result"
    }
   ],
   "source": [
    "example_tensor"
   ]
  },
  {
   "cell_type": "markdown",
   "metadata": {
    "colab_type": "text",
    "id": "VUwlmUngw-VR"
   },
   "source": [
    "## Tensor Properties: Device\n",
    "\n",
    "One important property is the device of the tensor - throughout this notebook you'll be sticking to tensors which are on the CPU. However, throughout the course you'll also be using tensors on GPU (that is, a graphics card which will be provided for you to use for the course). To view the device of the tensor, all you need to write is `example_tensor.device`. To move a tensor to a new device, you can write `new_tensor = example_tensor.to(device)` where device will be either `cpu` or `cuda`."
   ]
  },
  {
   "cell_type": "code",
   "execution_count": 4,
   "metadata": {
    "colab": {
     "base_uri": "https://localhost:8080/",
     "height": 34
    },
    "colab_type": "code",
    "id": "R7SF44_Vw9h0",
    "outputId": "57f90e38-f9e1-4115-8f27-ebe651d5b2fa"
   },
   "outputs": [
    {
     "data": {
      "text/plain": [
       "device(type='cpu')"
      ]
     },
     "execution_count": 4,
     "metadata": {},
     "output_type": "execute_result"
    }
   ],
   "source": [
    "example_tensor.device"
   ]
  },
  {
   "cell_type": "markdown",
   "metadata": {
    "colab_type": "text",
    "id": "FkfySyFduHQi"
   },
   "source": [
    "## Tensor Properties: Shape\n",
    "\n",
    "And you can get the number of elements in each dimension by printing out the tensor's shape, using `example_tensor.shape`, something you're likely familiar with if you've used numpy. For example, this tensor is a $3\\times2\\times2$ tensor, since it has 3 elements, each of which are $2\\times2$. "
   ]
  },
  {
   "cell_type": "code",
   "execution_count": 6,
   "metadata": {
    "colab": {
     "base_uri": "https://localhost:8080/",
     "height": 34
    },
    "colab_type": "code",
    "id": "DKmfzpOBun0t",
    "outputId": "883009b6-7300-4329-f9ec-df99cc36d846"
   },
   "outputs": [
    {
     "data": {
      "text/plain": [
       "torch.Size([3, 2, 2])"
      ]
     },
     "execution_count": 6,
     "metadata": {},
     "output_type": "execute_result"
    }
   ],
   "source": [
    "example_tensor.shape"
   ]
  },
  {
   "cell_type": "markdown",
   "metadata": {
    "colab_type": "text",
    "id": "aL954xmAuq4b"
   },
   "source": [
    "You can also get the size of a particular dimension $n$ using `example_tensor.shape[n]` or equivalently `example_tensor.size(n)`"
   ]
  },
  {
   "cell_type": "code",
   "execution_count": 13,
   "metadata": {},
   "outputs": [
    {
     "data": {
      "text/plain": [
       "3"
      ]
     },
     "execution_count": 13,
     "metadata": {},
     "output_type": "execute_result"
    }
   ],
   "source": [
    "example_tensor.shape[0]"
   ]
  },
  {
   "cell_type": "code",
   "execution_count": 11,
   "metadata": {},
   "outputs": [
    {
     "data": {
      "text/plain": [
       "2"
      ]
     },
     "execution_count": 11,
     "metadata": {},
     "output_type": "execute_result"
    }
   ],
   "source": [
    "example_tensor.size(2)"
   ]
  },
  {
   "cell_type": "code",
   "execution_count": 12,
   "metadata": {
    "colab": {
     "base_uri": "https://localhost:8080/",
     "height": 51
    },
    "colab_type": "code",
    "id": "7IKy3BB8uqBo",
    "outputId": "7fac1275-132f-4d2b-bf63-73065a2aea6a"
   },
   "outputs": [
    {
     "name": "stdout",
     "output_type": "stream",
     "text": [
      "shape[0] = 3\n",
      "size(1) = 2\n"
     ]
    }
   ],
   "source": [
    "print(\"shape[0] =\", example_tensor.shape[0])\n",
    "print(\"size(1) =\", example_tensor.size(1))"
   ]
  },
  {
   "cell_type": "markdown",
   "metadata": {
    "colab_type": "text",
    "id": "3pzzG8bav5rl"
   },
   "source": [
    "Finally, it is sometimes useful to get the number of dimensions (rank) or the number of elements, which you can do as follows"
   ]
  },
  {
   "cell_type": "code",
   "execution_count": 14,
   "metadata": {},
   "outputs": [
    {
     "data": {
      "text/plain": [
       "12"
      ]
     },
     "execution_count": 14,
     "metadata": {},
     "output_type": "execute_result"
    }
   ],
   "source": [
    "example_tensor.numel()"
   ]
  },
  {
   "cell_type": "code",
   "execution_count": 24,
   "metadata": {
    "colab": {
     "base_uri": "https://localhost:8080/",
     "height": 51
    },
    "colab_type": "code",
    "id": "l_j9qTwyv41-",
    "outputId": "5921cbd1-19a2-4543-9488-3f72c0cb4970"
   },
   "outputs": [
    {
     "name": "stdout",
     "output_type": "stream",
     "text": [
      "Rank = 3\n",
      "Number of elements = 12\n"
     ]
    }
   ],
   "source": [
    "print(\"Rank =\", len(example_tensor.shape))\n",
    "print(\"Number of elements =\", example_tensor.numel())"
   ]
  },
  {
   "cell_type": "markdown",
   "metadata": {
    "colab_type": "text",
    "id": "gibyKQJQzLkm"
   },
   "source": [
    "# Indexing Tensors\n",
    "\n",
    "As with numpy, you can access specific elements or subsets of elements of a tensor. To access the $n$-th element, you can simply write `example_tensor[n]` - as with Python in general, these dimensions are 0-indexed. "
   ]
  },
  {
   "cell_type": "code",
   "execution_count": 26,
   "metadata": {},
   "outputs": [
    {
     "data": {
      "text/plain": [
       "tensor([[[1., 2.],\n",
       "         [3., 4.]],\n",
       "\n",
       "        [[5., 6.],\n",
       "         [7., 8.]],\n",
       "\n",
       "        [[9., 0.],\n",
       "         [1., 2.]]])"
      ]
     },
     "execution_count": 26,
     "metadata": {},
     "output_type": "execute_result"
    }
   ],
   "source": [
    "example_tensor"
   ]
  },
  {
   "cell_type": "code",
   "execution_count": 25,
   "metadata": {
    "colab": {
     "base_uri": "https://localhost:8080/",
     "height": 51
    },
    "colab_type": "code",
    "id": "F87bFA5SzNz7",
    "outputId": "1b0a8381-6fd8-40b4-a5c8-88cc80029f8e"
   },
   "outputs": [
    {
     "data": {
      "text/plain": [
       "tensor([[5., 6.],\n",
       "        [7., 8.]])"
      ]
     },
     "execution_count": 25,
     "metadata": {},
     "output_type": "execute_result"
    }
   ],
   "source": [
    "example_tensor[1]"
   ]
  },
  {
   "cell_type": "markdown",
   "metadata": {
    "colab_type": "text",
    "id": "1CegGw5wzpGa"
   },
   "source": [
    "In addition, if you want to access the $j$-th dimension of the $i$-th example, you can write `example_tensor[i, j]`"
   ]
  },
  {
   "cell_type": "code",
   "execution_count": 9,
   "metadata": {
    "colab": {
     "base_uri": "https://localhost:8080/",
     "height": 34
    },
    "colab_type": "code",
    "id": "bl1JSZcRz0xn",
    "outputId": "7f98e47b-66cb-4927-b784-7e4bcb9eb687"
   },
   "outputs": [
    {
     "data": {
      "text/plain": [
       "tensor(7.)"
      ]
     },
     "execution_count": 9,
     "metadata": {},
     "output_type": "execute_result"
    }
   ],
   "source": [
    "example_tensor[1, 1, 0]"
   ]
  },
  {
   "cell_type": "markdown",
   "metadata": {
    "colab_type": "text",
    "id": "dyQRCRIa4NaY"
   },
   "source": [
    "Note that if you'd like to get a Python scalar value from a tensor, you can use `example_scalar.item()`"
   ]
  },
  {
   "cell_type": "code",
   "execution_count": 28,
   "metadata": {
    "colab": {
     "base_uri": "https://localhost:8080/",
     "height": 34
    },
    "colab_type": "code",
    "id": "e56KSJOq4YOE",
    "outputId": "29e1fd13-32df-40c5-e558-3193fa5da629"
   },
   "outputs": [
    {
     "data": {
      "text/plain": [
       "7.0"
      ]
     },
     "execution_count": 28,
     "metadata": {},
     "output_type": "execute_result"
    }
   ],
   "source": [
    "example_scalar = example_tensor[1, 1, 0]\n",
    "example_scalar.item()"
   ]
  },
  {
   "cell_type": "markdown",
   "metadata": {
    "colab_type": "text",
    "id": "wZdMEQfu0A7h"
   },
   "source": [
    "In addition, you can index into the ith element of a column by using `x[:, i]`. For example, if you want the top-left element of each element in `example_tensor`, which is the `0, 0` element of each matrix, you can write:"
   ]
  },
  {
   "cell_type": "code",
   "execution_count": 11,
   "metadata": {
    "colab": {
     "base_uri": "https://localhost:8080/",
     "height": 34
    },
    "colab_type": "code",
    "id": "x2cFxJx50eGH",
    "outputId": "e66eade9-4b4b-4c7a-ea99-a83195d10541"
   },
   "outputs": [
    {
     "data": {
      "text/plain": [
       "tensor([1., 5., 9.])"
      ]
     },
     "execution_count": 11,
     "metadata": {},
     "output_type": "execute_result"
    }
   ],
   "source": [
    "example_tensor[:, 0, 0]"
   ]
  },
  {
   "cell_type": "markdown",
   "metadata": {
    "colab_type": "text",
    "id": "w-rTBP-1whd2"
   },
   "source": [
    "# Initializing Tensors\n",
    "\n",
    "There are many ways to create new tensors in PyTorch, but in this course, the most important ones are: \n",
    "\n",
    "[`torch.ones_like`](https://pytorch.org/docs/master/generated/torch.ones_like.html): creates a tensor of all ones with the same shape and device as `example_tensor`."
   ]
  },
  {
   "cell_type": "code",
   "execution_count": 32,
   "metadata": {},
   "outputs": [
    {
     "data": {
      "text/plain": [
       "tensor([[[1., 2.],\n",
       "         [3., 4.]],\n",
       "\n",
       "        [[5., 6.],\n",
       "         [7., 8.]],\n",
       "\n",
       "        [[9., 0.],\n",
       "         [1., 2.]]])"
      ]
     },
     "execution_count": 32,
     "metadata": {},
     "output_type": "execute_result"
    }
   ],
   "source": [
    "example_tensor"
   ]
  },
  {
   "cell_type": "code",
   "execution_count": 12,
   "metadata": {
    "colab": {
     "base_uri": "https://localhost:8080/",
     "height": 153
    },
    "colab_type": "code",
    "id": "g7gbs4AnwlIo",
    "outputId": "b0c67ed9-e33f-47d6-d95c-e53bc4f90dec"
   },
   "outputs": [
    {
     "data": {
      "text/plain": [
       "tensor([[[1., 1.],\n",
       "         [1., 1.]],\n",
       "\n",
       "        [[1., 1.],\n",
       "         [1., 1.]],\n",
       "\n",
       "        [[1., 1.],\n",
       "         [1., 1.]]])"
      ]
     },
     "execution_count": 12,
     "metadata": {},
     "output_type": "execute_result"
    }
   ],
   "source": [
    "torch.ones_like(example_tensor)"
   ]
  },
  {
   "cell_type": "markdown",
   "metadata": {
    "colab_type": "text",
    "id": "_aIbSlaJy9Z0"
   },
   "source": [
    "[`torch.zeros_like`](https://pytorch.org/docs/master/generated/torch.zeros_like.html): creates a tensor of all zeros with the same shape and device as `example_tensor`"
   ]
  },
  {
   "cell_type": "code",
   "execution_count": 13,
   "metadata": {
    "colab": {
     "base_uri": "https://localhost:8080/",
     "height": 153
    },
    "colab_type": "code",
    "id": "X4cWQduzzCd8",
    "outputId": "dbc8a5fa-8db1-4f6d-e38e-d1deb982ff36"
   },
   "outputs": [
    {
     "data": {
      "text/plain": [
       "tensor([[[0., 0.],\n",
       "         [0., 0.]],\n",
       "\n",
       "        [[0., 0.],\n",
       "         [0., 0.]],\n",
       "\n",
       "        [[0., 0.],\n",
       "         [0., 0.]]])"
      ]
     },
     "execution_count": 13,
     "metadata": {},
     "output_type": "execute_result"
    }
   ],
   "source": [
    "torch.zeros_like(example_tensor)"
   ]
  },
  {
   "cell_type": "markdown",
   "metadata": {
    "colab_type": "text",
    "id": "wsOmgS1izDS_"
   },
   "source": [
    "[`torch.randn_like`](https://pytorch.org/docs/stable/generated/torch.randn_like.html): creates a tensor with every element sampled from a [Normal (or Gaussian) distribution](https://en.wikipedia.org/wiki/Normal_distribution) with the same shape and device as `example_tensor`\n"
   ]
  },
  {
   "cell_type": "code",
   "execution_count": 14,
   "metadata": {
    "colab": {
     "base_uri": "https://localhost:8080/",
     "height": 153
    },
    "colab_type": "code",
    "id": "2hto51IazDow",
    "outputId": "cb62a68a-6171-4d1e-eb9b-f31784464aac"
   },
   "outputs": [
    {
     "data": {
      "text/plain": [
       "tensor([[[-0.3675,  0.2242],\n",
       "         [-0.3378, -1.0944]],\n",
       "\n",
       "        [[ 1.5371,  0.7701],\n",
       "         [-0.1490, -0.0928]],\n",
       "\n",
       "        [[ 0.3270,  0.4642],\n",
       "         [ 0.1494,  0.1283]]])"
      ]
     },
     "execution_count": 14,
     "metadata": {},
     "output_type": "execute_result"
    }
   ],
   "source": [
    "torch.randn_like(example_tensor)"
   ]
  },
  {
   "cell_type": "markdown",
   "metadata": {
    "colab_type": "text",
    "id": "HXp0i5Cf6AGj"
   },
   "source": [
    "Sometimes (though less often than you'd expect), you might need to initialize a tensor knowing only the shape and device, without a tensor for reference for `ones_like` or `randn_like`. In this case, you can create a $2x2$ tensor as follows:"
   ]
  },
  {
   "cell_type": "code",
   "execution_count": 12,
   "metadata": {
    "colab": {
     "base_uri": "https://localhost:8080/",
     "height": 51
    },
    "colab_type": "code",
    "id": "RZRqt3-S6cUZ",
    "outputId": "7bef97cc-a303-4200-c0f8-ef9bf3cb4996"
   },
   "outputs": [
    {
     "data": {
      "text/plain": [
       "tensor([[-0.2846, -0.1791],\n",
       "        [-0.1487,  0.3791]])"
      ]
     },
     "execution_count": 12,
     "metadata": {},
     "output_type": "execute_result"
    }
   ],
   "source": [
    "torch.randn(2, 2, device='cpu') # Alternatively, for a GPU tensor, you'd use device='cuda'"
   ]
  },
  {
   "cell_type": "markdown",
   "metadata": {
    "colab_type": "text",
    "id": "JTkmDwVsrM6R"
   },
   "source": [
    "# Basic Functions\n",
    "\n",
    "There are a number of basic functions that you should know to use PyTorch - if you're familiar with numpy, all commonly-used functions exist in PyTorch, usually with the same name. You can perform element-wise multiplication / division by a scalar $c$ by simply writing `c * example_tensor`, and element-wise addition / subtraction by a scalar by writing `example_tensor + c`\n",
    "\n",
    "Note that most operations are not in-place in PyTorch, which means that they don't change the original variable's data (However, you can reassign the same variable name to the changed data if you'd like, such as `example_tensor = example_tensor + 1`)"
   ]
  },
  {
   "cell_type": "code",
   "execution_count": 14,
   "metadata": {},
   "outputs": [
    {
     "data": {
      "text/plain": [
       "tensor([[[1., 2.],\n",
       "         [3., 4.]],\n",
       "\n",
       "        [[5., 6.],\n",
       "         [7., 8.]],\n",
       "\n",
       "        [[9., 0.],\n",
       "         [1., 2.]]])"
      ]
     },
     "execution_count": 14,
     "metadata": {},
     "output_type": "execute_result"
    }
   ],
   "source": [
    "example_tensor"
   ]
  },
  {
   "cell_type": "code",
   "execution_count": 15,
   "metadata": {
    "colab": {
     "base_uri": "https://localhost:8080/",
     "height": 153
    },
    "colab_type": "code",
    "id": "FpfwOUdopsF_",
    "outputId": "32347400-2e6a-40c6-e6f1-21e6aacde795"
   },
   "outputs": [
    {
     "data": {
      "text/plain": [
       "tensor([[[ -8.,  -6.],\n",
       "         [ -4.,  -2.]],\n",
       "\n",
       "        [[  0.,   2.],\n",
       "         [  4.,   6.]],\n",
       "\n",
       "        [[  8., -10.],\n",
       "         [ -8.,  -6.]]])"
      ]
     },
     "execution_count": 15,
     "metadata": {},
     "output_type": "execute_result"
    }
   ],
   "source": [
    "(example_tensor - 5) * 2"
   ]
  },
  {
   "cell_type": "markdown",
   "metadata": {
    "colab_type": "text",
    "id": "uciZnx4b3UjX"
   },
   "source": [
    "You can calculate the mean or standard deviation of a tensor using [`example_tensor.mean()`](https://pytorch.org/docs/stable/generated/torch.mean.html) or [`example_tensor.std()`](https://pytorch.org/docs/stable/generated/torch.std.html). "
   ]
  },
  {
   "cell_type": "code",
   "execution_count": 16,
   "metadata": {
    "colab": {
     "base_uri": "https://localhost:8080/",
     "height": 51
    },
    "colab_type": "code",
    "id": "0ELXUKG7329z",
    "outputId": "720dd190-7dd4-43f1-e53c-cba4263eb2be"
   },
   "outputs": [
    {
     "name": "stdout",
     "output_type": "stream",
     "text": [
      "Mean: tensor(4.)\n",
      "Stdev: tensor(2.9848)\n"
     ]
    }
   ],
   "source": [
    "print(\"Mean:\", example_tensor.mean())\n",
    "print(\"Stdev:\", example_tensor.std())"
   ]
  },
  {
   "cell_type": "markdown",
   "metadata": {
    "colab_type": "text",
    "id": "_QsyTRym32SX"
   },
   "source": [
    "You might also want to find the mean or standard deviation along a particular dimension. To do this you can simple pass the number corresponding to that dimension to the function. For example, if you want to get the average $2\\times2$ matrix of the $3\\times2\\times2$ `example_tensor` you can write:"
   ]
  },
  {
   "cell_type": "code",
   "execution_count": 17,
   "metadata": {},
   "outputs": [
    {
     "data": {
      "text/plain": [
       "tensor([[[1., 2.],\n",
       "         [3., 4.]],\n",
       "\n",
       "        [[5., 6.],\n",
       "         [7., 8.]],\n",
       "\n",
       "        [[9., 0.],\n",
       "         [1., 2.]]])"
      ]
     },
     "execution_count": 17,
     "metadata": {},
     "output_type": "execute_result"
    }
   ],
   "source": [
    "example_tensor"
   ]
  },
  {
   "cell_type": "code",
   "execution_count": 18,
   "metadata": {
    "colab": {
     "base_uri": "https://localhost:8080/",
     "height": 51
    },
    "colab_type": "code",
    "id": "eCJl3Im25B9k",
    "outputId": "4bd9decd-579e-462c-bde1-ee8d9d1b2061"
   },
   "outputs": [
    {
     "data": {
      "text/plain": [
       "tensor([[5.0000, 2.6667],\n",
       "        [3.6667, 4.6667]])"
      ]
     },
     "execution_count": 18,
     "metadata": {},
     "output_type": "execute_result"
    }
   ],
   "source": [
    "example_tensor.mean(0)\n",
    "\n",
    "# Equivalently, you could also write:\n",
    "# example_tensor.mean(dim=0)\n",
    "# example_tensor.mean(axis=0)\n",
    "# torch.mean(example_tensor, 0)\n",
    "# torch.mean(example_tensor, dim=0)\n",
    "# torch.mean(example_tensor, axis=0)"
   ]
  },
  {
   "cell_type": "markdown",
   "metadata": {
    "colab_type": "text",
    "id": "Vb-_5ubc8t97"
   },
   "source": [
    "PyTorch has many other powerful functions but these should be all of PyTorch functions you need for this course outside of its neural network module (`torch.nn`)."
   ]
  },
  {
   "cell_type": "markdown",
   "metadata": {
    "colab_type": "text",
    "id": "RtWjExD69JEs"
   },
   "source": [
    "# PyTorch Neural Network Module (`torch.nn`)\n",
    "\n",
    "PyTorch has a lot of powerful classes in its `torch.nn` module (Usually, imported as simply `nn`). These classes allow you to create a new function which transforms a tensor in specific way, often retaining information when called multiple times."
   ]
  },
  {
   "cell_type": "code",
   "execution_count": 19,
   "metadata": {
    "colab": {},
    "colab_type": "code",
    "id": "UYrgloYo_slC"
   },
   "outputs": [],
   "source": [
    "import torch.nn as nn"
   ]
  },
  {
   "cell_type": "markdown",
   "metadata": {
    "colab_type": "text",
    "id": "uyCPVmTD_kkl"
   },
   "source": [
    "## `nn.Linear`\n",
    "\n",
    "To create a linear layer, you need to pass it the number of input dimensions and the number of output dimensions. The linear object initialized as `nn.Linear(10, 2)` will take in a $n\\times10$ matrix and return an $n\\times2$ matrix, where all $n$ elements have had the same linear transformation performed. For example, you can initialize a linear layer which performs the operation $Ax + b$, where $A$ and $b$ are initialized randomly when you generate the [`nn.Linear()`](https://pytorch.org/docs/stable/generated/torch.nn.Linear.html) object. "
   ]
  },
  {
   "cell_type": "code",
   "execution_count": 20,
   "metadata": {
    "colab": {
     "base_uri": "https://localhost:8080/",
     "height": 68
    },
    "colab_type": "code",
    "id": "pNPaHPo89VrN",
    "outputId": "c14dc316-ae68-49d3-a8eb-8ad6e1464f01"
   },
   "outputs": [
    {
     "data": {
      "text/plain": [
       "tensor([[-0.0104,  0.4484],\n",
       "        [ 0.3937,  0.0282],\n",
       "        [ 1.5545, -0.5259]], grad_fn=<AddmmBackward>)"
      ]
     },
     "execution_count": 20,
     "metadata": {},
     "output_type": "execute_result"
    }
   ],
   "source": [
    "linear = nn.Linear(10, 2)\n",
    "example_input = torch.randn(3, 10)\n",
    "example_output = linear(example_input)\n",
    "example_output"
   ]
  },
  {
   "cell_type": "code",
   "execution_count": 21,
   "metadata": {},
   "outputs": [
    {
     "data": {
      "text/plain": [
       "tensor([[-0.6502,  1.0301,  1.3197,  0.5616, -2.4246, -0.4989, -1.0233,  0.1961,\n",
       "          0.4104,  0.2468],\n",
       "        [-1.0818, -0.8511, -1.7833, -0.3955, -0.0884, -0.6755,  0.7035, -0.2533,\n",
       "          0.7868,  0.3230],\n",
       "        [ 0.1632, -1.2818, -0.9552,  0.6919,  2.0006,  0.9560,  2.1900,  1.7552,\n",
       "         -0.7208,  1.1033]])"
      ]
     },
     "execution_count": 21,
     "metadata": {},
     "output_type": "execute_result"
    }
   ],
   "source": [
    "example_input"
   ]
  },
  {
   "cell_type": "markdown",
   "metadata": {
    "colab_type": "text",
    "id": "YGNULkJR_mzn"
   },
   "source": [
    "## `nn.ReLU`\n",
    "\n",
    "[`nn.ReLU()`](https://pytorch.org/docs/stable/generated/torch.nn.ReLU.html) will create an object that, when receiving a tensor, will perform a ReLU activation function. This will be reviewed further in lecture, but in essence, a ReLU non-linearity sets all negative numbers in a tensor to zero. In general, the simplest neural networks are composed of series of linear transformations, each followed by activation functions. "
   ]
  },
  {
   "cell_type": "code",
   "execution_count": 22,
   "metadata": {},
   "outputs": [
    {
     "data": {
      "text/plain": [
       "tensor([[-0.0104,  0.4484],\n",
       "        [ 0.3937,  0.0282],\n",
       "        [ 1.5545, -0.5259]], grad_fn=<AddmmBackward>)"
      ]
     },
     "execution_count": 22,
     "metadata": {},
     "output_type": "execute_result"
    }
   ],
   "source": [
    "example_output"
   ]
  },
  {
   "cell_type": "code",
   "execution_count": 23,
   "metadata": {
    "colab": {
     "base_uri": "https://localhost:8080/",
     "height": 68
    },
    "colab_type": "code",
    "id": "nGxVFS3nBASc",
    "outputId": "d5f57584-1bad-4803-ba8c-b69881db4a1f"
   },
   "outputs": [
    {
     "data": {
      "text/plain": [
       "tensor([[0.0000, 0.4484],\n",
       "        [0.3937, 0.0282],\n",
       "        [1.5545, 0.0000]], grad_fn=<ReluBackward0>)"
      ]
     },
     "execution_count": 23,
     "metadata": {},
     "output_type": "execute_result"
    }
   ],
   "source": [
    "relu = nn.ReLU()\n",
    "relu_output = relu(example_output)\n",
    "relu_output"
   ]
  },
  {
   "cell_type": "markdown",
   "metadata": {
    "colab_type": "text",
    "id": "KzfOEZ03AJzA"
   },
   "source": [
    "## `nn.BatchNorm1d`\n",
    "\n",
    "[`nn.BatchNorm1d`](https://pytorch.org/docs/stable/generated/torch.nn.BatchNorm1d.html) is a normalization technique that will rescale a batch of $n$ inputs to have a consistent mean and standard deviation between batches.  \n",
    "\n",
    "As indicated by the `1d` in its name, this is for situations where you expects a set of inputs, where each of them is a flat list of numbers. In other words, each input is a vector, not a matrix or higher-dimensional tensor. For a set of images, each of which is a higher-dimensional tensor, you'd use [`nn.BatchNorm2d`](https://pytorch.org/docs/stable/generated/torch.nn.BatchNorm2d.html), discussed later on this page.\n",
    "\n",
    "`nn.BatchNorm1d` takes an argument of the number of input dimensions of each object in the batch (the size of each example vector)."
   ]
  },
  {
   "cell_type": "code",
   "execution_count": 24,
   "metadata": {},
   "outputs": [
    {
     "data": {
      "text/plain": [
       "tensor([[0.0000, 0.4484],\n",
       "        [0.3937, 0.0282],\n",
       "        [1.5545, 0.0000]], grad_fn=<ReluBackward0>)"
      ]
     },
     "execution_count": 24,
     "metadata": {},
     "output_type": "execute_result"
    }
   ],
   "source": [
    "relu_output"
   ]
  },
  {
   "cell_type": "code",
   "execution_count": 25,
   "metadata": {
    "colab": {
     "base_uri": "https://localhost:8080/",
     "height": 68
    },
    "colab_type": "code",
    "id": "O4tYsi9-G9vM",
    "outputId": "ba61d37c-a8af-4663-fcc2-1691c6d241de"
   },
   "outputs": [
    {
     "data": {
      "text/plain": [
       "tensor([[-0.9841,  1.4118],\n",
       "        [-0.3875, -0.6371],\n",
       "        [ 1.3716, -0.7747]], grad_fn=<NativeBatchNormBackward>)"
      ]
     },
     "execution_count": 25,
     "metadata": {},
     "output_type": "execute_result"
    }
   ],
   "source": [
    "batchnorm = nn.BatchNorm1d(2)\n",
    "batchnorm_output = batchnorm(relu_output)\n",
    "batchnorm_output"
   ]
  },
  {
   "cell_type": "markdown",
   "metadata": {
    "colab_type": "text",
    "id": "EMZewDz9Idr1"
   },
   "source": [
    "## `nn.Sequential`\n",
    "\n",
    "[`nn.Sequential`](https://pytorch.org/docs/stable/generated/torch.nn.Sequential.html) creates a single operation that performs a sequence of operations. For example, you can write a neural network layer with a batch normalization as"
   ]
  },
  {
   "cell_type": "code",
   "execution_count": 26,
   "metadata": {
    "colab": {
     "base_uri": "https://localhost:8080/",
     "height": 221
    },
    "colab_type": "code",
    "id": "R3GhASjyJt3N",
    "outputId": "3ef779ca-a17b-42fd-f2e5-fbb5fdc60b13"
   },
   "outputs": [
    {
     "name": "stdout",
     "output_type": "stream",
     "text": [
      "input: \n",
      "tensor([[ 2.1008,  1.0092,  1.1290,  0.3763,  2.4501],\n",
      "        [-0.9561,  0.4326,  1.3567,  0.7599,  2.1697],\n",
      "        [ 1.9356,  1.5602,  2.1366,  2.8301,  1.4621],\n",
      "        [ 1.7119,  1.8255,  1.0229,  1.0056, -0.2949],\n",
      "        [ 2.1682,  0.7882,  2.5219,  0.6612,  0.0308]])\n",
      "output: \n",
      "tensor([[1.0948, 0.6147],\n",
      "        [1.2179, 1.6459],\n",
      "        [0.0000, 0.0000],\n",
      "        [0.0000, 0.0000],\n",
      "        [0.0000, 0.0000]], grad_fn=<ReluBackward0>)\n"
     ]
    }
   ],
   "source": [
    "mlp_layer = nn.Sequential(\n",
    "    nn.Linear(5, 2),\n",
    "    nn.BatchNorm1d(2),\n",
    "    nn.ReLU()\n",
    ")\n",
    "\n",
    "test_example = torch.randn(5,5) + 1\n",
    "print(\"input: \")\n",
    "print(test_example)\n",
    "print(\"output: \")\n",
    "print(mlp_layer(test_example))"
   ]
  },
  {
   "cell_type": "markdown",
   "metadata": {
    "colab_type": "text",
    "id": "SToQiSv5K5Yb"
   },
   "source": [
    "# Optimization\n",
    "\n",
    "One of the most important aspects of essentially any machine learning framework is its automatic differentiation library. "
   ]
  },
  {
   "cell_type": "markdown",
   "metadata": {
    "colab_type": "text",
    "id": "r4GZFCZ0QqI1"
   },
   "source": [
    "## Optimizers\n",
    "\n",
    "To create an optimizer in PyTorch, you'll need to use the `torch.optim` module, often imported as `optim`. [`optim.Adam`](https://pytorch.org/docs/stable/optim.html#torch.optim.Adam) corresponds to the Adam optimizer. To create an optimizer object, you'll need to pass it the parameters to be optimized and the learning rate, `lr`, as well as any other parameters specific to the optimizer.\n",
    "\n",
    "For all `nn` objects, you can access their parameters as a list using their `parameters()` method, as follows:"
   ]
  },
  {
   "cell_type": "code",
   "execution_count": 27,
   "metadata": {
    "colab": {},
    "colab_type": "code",
    "id": "AIcCbs35K4wY"
   },
   "outputs": [],
   "source": [
    "import torch.optim as optim\n",
    "adam_opt = optim.Adam(mlp_layer.parameters(), lr=1e-1)"
   ]
  },
  {
   "cell_type": "code",
   "execution_count": 45,
   "metadata": {},
   "outputs": [
    {
     "data": {
      "text/plain": [
       "[Parameter containing:\n",
       " tensor([[-0.2245,  0.1464,  0.4164, -0.5264,  0.2343],\n",
       "         [-0.3060,  0.4217, -0.0333, -0.2554,  0.4579]], requires_grad=True),\n",
       " Parameter containing:\n",
       " tensor([-0.1244,  0.2585], requires_grad=True),\n",
       " Parameter containing:\n",
       " tensor([0.9000, 0.9000], requires_grad=True),\n",
       " Parameter containing:\n",
       " tensor([0.1000, 0.1000], requires_grad=True)]"
      ]
     },
     "execution_count": 45,
     "metadata": {},
     "output_type": "execute_result"
    }
   ],
   "source": [
    "list(mlp_layer.parameters())"
   ]
  },
  {
   "cell_type": "code",
   "execution_count": 46,
   "metadata": {},
   "outputs": [
    {
     "data": {
      "text/plain": [
       "[('0.weight',\n",
       "  Parameter containing:\n",
       "  tensor([[-0.2245,  0.1464,  0.4164, -0.5264,  0.2343],\n",
       "          [-0.3060,  0.4217, -0.0333, -0.2554,  0.4579]], requires_grad=True)),\n",
       " ('0.bias',\n",
       "  Parameter containing:\n",
       "  tensor([-0.1244,  0.2585], requires_grad=True)),\n",
       " ('1.weight',\n",
       "  Parameter containing:\n",
       "  tensor([0.9000, 0.9000], requires_grad=True)),\n",
       " ('1.bias',\n",
       "  Parameter containing:\n",
       "  tensor([0.1000, 0.1000], requires_grad=True))]"
      ]
     },
     "execution_count": 46,
     "metadata": {},
     "output_type": "execute_result"
    }
   ],
   "source": [
    "list(mlp_layer.named_parameters())"
   ]
  },
  {
   "cell_type": "markdown",
   "metadata": {
    "colab_type": "text",
    "id": "-BsPFZu2M0Xx"
   },
   "source": [
    "## Training Loop\n",
    "\n",
    "A (basic) training step in PyTorch consists of four basic parts:\n",
    "\n",
    "\n",
    "1.   Set all of the gradients to zero using `opt.zero_grad()`\n",
    "2.   Calculate the loss, `loss`\n",
    "3.   Calculate the gradients with respect to the loss using `loss.backward()`\n",
    "4.   Update the parameters being optimized using `opt.step()`\n",
    "\n",
    "That might look like the following code (and you'll notice that if you run it several times, the loss goes down):\n"
   ]
  },
  {
   "cell_type": "code",
   "execution_count": 30,
   "metadata": {
    "colab": {
     "base_uri": "https://localhost:8080/",
     "height": 34
    },
    "colab_type": "code",
    "id": "zm6lPx4sOJht",
    "outputId": "c21672bd-a306-42ab-face-9a299511a059"
   },
   "outputs": [
    {
     "name": "stdout",
     "output_type": "stream",
     "text": [
      "tensor(0.7342, grad_fn=<MeanBackward0>)\n"
     ]
    }
   ],
   "source": [
    "train_example = torch.randn(100,5) + 1\n",
    "adam_opt.zero_grad()\n",
    "\n",
    "# We'll use a simple loss function of mean distance from 1\n",
    "# torch.abs takes the absolute value of a tensor\n",
    "cur_loss = torch.abs(1 - mlp_layer(train_example)).mean()\n",
    "\n",
    "cur_loss.backward()\n",
    "adam_opt.step()\n",
    "print(cur_loss)"
   ]
  },
  {
   "cell_type": "code",
   "execution_count": 32,
   "metadata": {
    "scrolled": true
   },
   "outputs": [
    {
     "data": {
      "text/plain": [
       "tensor([[0.0000e+00, 9.6119e-01],\n",
       "        [1.4016e+00, 1.5110e+00],\n",
       "        [1.3003e-01, 1.2434e+00],\n",
       "        [2.4542e+00, 7.0574e-01],\n",
       "        [8.0869e-01, 2.3120e-01],\n",
       "        [0.0000e+00, 0.0000e+00],\n",
       "        [1.4200e+00, 5.0624e-01],\n",
       "        [5.7302e-01, 4.7604e-01],\n",
       "        [3.8595e-01, 0.0000e+00],\n",
       "        [0.0000e+00, 0.0000e+00],\n",
       "        [0.0000e+00, 0.0000e+00],\n",
       "        [0.0000e+00, 1.2716e+00],\n",
       "        [0.0000e+00, 0.0000e+00],\n",
       "        [5.8263e-01, 5.2635e-01],\n",
       "        [0.0000e+00, 0.0000e+00],\n",
       "        [1.1041e+00, 7.0491e-01],\n",
       "        [5.5196e-01, 9.5126e-01],\n",
       "        [6.8297e-01, 7.4125e-01],\n",
       "        [0.0000e+00, 0.0000e+00],\n",
       "        [1.6067e+00, 7.9980e-01],\n",
       "        [5.8011e-01, 0.0000e+00],\n",
       "        [5.9369e-01, 4.6991e-01],\n",
       "        [0.0000e+00, 0.0000e+00],\n",
       "        [8.6963e-01, 7.9873e-01],\n",
       "        [8.7547e-01, 3.0859e-02],\n",
       "        [0.0000e+00, 4.8841e-01],\n",
       "        [1.2424e+00, 8.1597e-01],\n",
       "        [1.0263e+00, 0.0000e+00],\n",
       "        [1.7238e+00, 1.4647e+00],\n",
       "        [9.9298e-01, 9.0866e-01],\n",
       "        [4.5944e-01, 4.3795e-01],\n",
       "        [7.4738e-01, 1.3240e+00],\n",
       "        [1.5402e+00, 9.7211e-01],\n",
       "        [7.6028e-01, 0.0000e+00],\n",
       "        [0.0000e+00, 0.0000e+00],\n",
       "        [0.0000e+00, 0.0000e+00],\n",
       "        [4.9311e-01, 1.5680e+00],\n",
       "        [1.1836e+00, 1.9940e+00],\n",
       "        [0.0000e+00, 0.0000e+00],\n",
       "        [7.3851e-01, 6.5559e-01],\n",
       "        [0.0000e+00, 0.0000e+00],\n",
       "        [0.0000e+00, 0.0000e+00],\n",
       "        [2.3233e-01, 0.0000e+00],\n",
       "        [0.0000e+00, 0.0000e+00],\n",
       "        [0.0000e+00, 0.0000e+00],\n",
       "        [0.0000e+00, 0.0000e+00],\n",
       "        [7.6129e-01, 4.6054e-01],\n",
       "        [0.0000e+00, 0.0000e+00],\n",
       "        [5.1565e-01, 7.7871e-01],\n",
       "        [0.0000e+00, 0.0000e+00],\n",
       "        [9.4562e-02, 0.0000e+00],\n",
       "        [5.9199e-01, 0.0000e+00],\n",
       "        [0.0000e+00, 8.4711e-01],\n",
       "        [7.4802e-01, 0.0000e+00],\n",
       "        [1.2181e-01, 0.0000e+00],\n",
       "        [2.6440e-01, 1.2898e-01],\n",
       "        [8.0668e-01, 7.2317e-01],\n",
       "        [7.3554e-01, 1.1322e+00],\n",
       "        [0.0000e+00, 1.1807e+00],\n",
       "        [0.0000e+00, 0.0000e+00],\n",
       "        [0.0000e+00, 1.4950e+00],\n",
       "        [0.0000e+00, 5.2805e-01],\n",
       "        [0.0000e+00, 0.0000e+00],\n",
       "        [9.0785e-01, 0.0000e+00],\n",
       "        [7.9001e-01, 2.6639e-01],\n",
       "        [0.0000e+00, 7.6517e-01],\n",
       "        [1.2569e+00, 1.6566e+00],\n",
       "        [0.0000e+00, 0.0000e+00],\n",
       "        [9.0817e-01, 7.2668e-01],\n",
       "        [1.8169e+00, 1.2544e+00],\n",
       "        [4.5992e-01, 1.0083e+00],\n",
       "        [1.0036e+00, 1.3965e+00],\n",
       "        [4.4070e-01, 6.6164e-01],\n",
       "        [0.0000e+00, 4.4985e-01],\n",
       "        [1.1537e+00, 2.0989e-03],\n",
       "        [0.0000e+00, 0.0000e+00],\n",
       "        [0.0000e+00, 0.0000e+00],\n",
       "        [1.4284e-01, 1.0890e+00],\n",
       "        [0.0000e+00, 0.0000e+00],\n",
       "        [0.0000e+00, 0.0000e+00],\n",
       "        [0.0000e+00, 5.5708e-01],\n",
       "        [0.0000e+00, 0.0000e+00],\n",
       "        [0.0000e+00, 6.9242e-02],\n",
       "        [5.7084e-01, 0.0000e+00],\n",
       "        [0.0000e+00, 0.0000e+00],\n",
       "        [0.0000e+00, 1.3472e-01],\n",
       "        [0.0000e+00, 0.0000e+00],\n",
       "        [7.9064e-01, 0.0000e+00],\n",
       "        [0.0000e+00, 9.4691e-02],\n",
       "        [4.4576e-01, 6.3729e-01],\n",
       "        [0.0000e+00, 0.0000e+00],\n",
       "        [0.0000e+00, 4.7934e-01],\n",
       "        [1.4249e+00, 9.9060e-01],\n",
       "        [2.2002e-01, 6.3525e-01],\n",
       "        [9.7604e-02, 0.0000e+00],\n",
       "        [0.0000e+00, 0.0000e+00],\n",
       "        [0.0000e+00, 0.0000e+00],\n",
       "        [1.5095e-01, 0.0000e+00],\n",
       "        [8.6208e-01, 1.2068e-01],\n",
       "        [0.0000e+00, 3.4664e-01]], grad_fn=<ReluBackward0>)"
      ]
     },
     "execution_count": 32,
     "metadata": {},
     "output_type": "execute_result"
    }
   ],
   "source": [
    "mlp_layer(train_example)"
   ]
  },
  {
   "cell_type": "code",
   "execution_count": 41,
   "metadata": {
    "scrolled": false
   },
   "outputs": [
    {
     "name": "stdout",
     "output_type": "stream",
     "text": [
      "tensor(0.6844, grad_fn=<MeanBackward0>)\n"
     ]
    }
   ],
   "source": [
    "a = torch.abs(1-mlp_layer(train_example)).mean()\n",
    "print(a)"
   ]
  },
  {
   "cell_type": "code",
   "execution_count": 42,
   "metadata": {},
   "outputs": [
    {
     "name": "stdout",
     "output_type": "stream",
     "text": [
      "None\n"
     ]
    }
   ],
   "source": [
    "b = a.backward()\n",
    "print(b)"
   ]
  },
  {
   "cell_type": "code",
   "execution_count": 31,
   "metadata": {
    "scrolled": true
   },
   "outputs": [
    {
     "data": {
      "text/plain": [
       "tensor([[-4.9671e-02,  1.0052e+00, -3.6070e-01,  7.4770e-01,  1.4418e+00],\n",
       "        [-7.2234e-02,  1.7170e+00,  1.6664e+00,  4.6589e-01,  1.6784e+00],\n",
       "        [ 5.0701e-01,  2.7604e+00, -8.4208e-01, -3.9397e-01, -4.0258e-03],\n",
       "        [ 8.9525e-01,  1.0300e+00,  2.2145e+00, -1.7896e+00,  3.9622e-01],\n",
       "        [ 9.8659e-01,  9.6057e-01,  8.3462e-01, -6.2309e-01,  2.8021e-01],\n",
       "        [ 6.3896e-01,  1.1668e+00,  1.7755e+00,  1.9543e+00,  3.7071e-02],\n",
       "        [ 7.8546e-01,  3.0436e-01,  2.0934e+00,  6.4375e-03,  1.6517e+00],\n",
       "        [ 8.8930e-01,  8.5387e-01,  6.7050e-01, -7.4571e-02,  1.0159e+00],\n",
       "        [ 3.6952e-01,  8.7907e-01,  2.6640e+00,  7.1868e-01, -1.8633e+00],\n",
       "        [ 8.1264e-02, -4.5672e-01,  8.2684e-01,  1.2724e+00, -2.1292e-01],\n",
       "        [ 1.2827e+00,  3.0150e-01,  8.5525e-01,  2.9668e-01,  3.2651e-01],\n",
       "        [ 1.2730e-01,  2.4756e+00, -1.4504e+00,  1.9605e+00,  1.3208e+00],\n",
       "        [ 6.5596e-01,  7.2041e-02, -3.2073e-01,  1.1872e+00, -2.2012e-01],\n",
       "        [ 1.7290e+00,  2.0520e+00,  1.2893e+00,  2.8028e-01,  8.0045e-01],\n",
       "        [ 1.0223e+00,  8.0710e-01,  4.6489e-01,  1.6378e+00,  2.2319e-01],\n",
       "        [ 1.9596e-01,  2.1592e+00,  2.0676e+00,  5.5531e-01,  1.8514e-01],\n",
       "        [ 2.1981e+00,  1.9110e+00,  1.3375e+00,  7.5543e-01,  2.2210e+00],\n",
       "        [ 3.8160e-01,  1.0172e+00,  9.9568e-01,  3.9153e-01,  1.2521e+00],\n",
       "        [ 7.5079e-01, -4.7919e-01,  1.1703e+00,  1.5009e+00,  2.3406e-01],\n",
       "        [ 3.6714e-01,  2.9761e+00,  3.3472e+00,  9.1567e-01, -4.5192e-04],\n",
       "        [ 3.3517e-01, -1.6939e-01,  2.4371e+00,  1.1313e+00,  7.1742e-01],\n",
       "        [ 9.8538e-01, -5.8602e-01,  6.1116e-01,  5.0587e-02,  2.4615e+00],\n",
       "        [ 4.9417e-01,  3.7405e-01,  2.0354e-01,  2.6214e+00,  5.0753e-01],\n",
       "        [ 1.2784e+00, -1.4395e-01,  4.0931e-01, -5.0183e-01,  2.4756e+00],\n",
       "        [ 4.5125e-01,  4.8032e-01,  9.1602e-01, -6.8347e-01,  2.8937e-03],\n",
       "        [ 1.3304e-01,  1.1628e+00,  2.3257e-01,  2.2840e+00,  1.5306e+00],\n",
       "        [ 1.9462e+00,  1.7556e+00,  2.5108e+00,  6.5568e-01,  1.9999e+00],\n",
       "        [ 1.7934e+00, -1.4476e+00,  2.8282e+00,  6.4050e-02,  1.2632e+00],\n",
       "        [ 1.1223e+00,  2.3039e+00,  2.8747e+00,  8.1861e-01,  2.1436e+00],\n",
       "        [-9.3352e-01, -6.7398e-01,  8.7845e-01,  3.5721e-01,  2.1824e+00],\n",
       "        [-1.4133e-01,  6.2900e-01,  1.7845e+00,  1.5417e+00,  1.4535e+00],\n",
       "        [ 8.0313e-01,  1.3124e+00,  1.7179e+00,  1.5103e+00,  2.9105e+00],\n",
       "        [ 1.7545e+00,  1.3720e+00,  1.5166e+00, -7.4902e-01,  1.6294e+00],\n",
       "        [ 1.0075e+00,  1.0283e-01,  2.1659e+00,  6.8057e-01,  1.2432e+00],\n",
       "        [ 3.1912e-01, -1.6117e-01,  3.5750e-01,  2.3535e+00,  1.6973e+00],\n",
       "        [ 8.0624e-01, -5.9584e-02, -5.7589e-02,  1.3701e+00,  1.1093e+00],\n",
       "        [-3.2357e-01,  1.9145e+00,  1.7840e-01,  6.4000e-01,  1.4124e+00],\n",
       "        [ 4.0265e+00,  2.2471e+00,  6.3527e-01, -5.6629e-01,  4.0838e+00],\n",
       "        [ 3.9134e-01,  1.2313e+00,  3.6184e-01,  2.0217e+00,  4.3143e-02],\n",
       "        [-1.5559e+00,  6.7161e-01,  1.4078e+00,  1.0454e+00,  5.2761e-01],\n",
       "        [ 2.8751e-01, -1.0412e+00,  1.2859e+00,  2.8304e+00,  1.2395e+00],\n",
       "        [ 2.2976e+00,  2.5660e-01,  1.3736e+00,  2.4333e+00,  1.8978e+00],\n",
       "        [ 1.9213e+00,  7.5534e-01,  2.2368e+00,  1.3260e+00,  1.3286e+00],\n",
       "        [ 1.4294e+00, -8.2770e-01,  1.2927e+00,  1.7211e+00,  1.0464e+00],\n",
       "        [ 2.0302e+00,  2.5325e-01,  1.5369e+00, -3.9055e-02, -1.0722e+00],\n",
       "        [ 2.1276e+00, -9.3315e-01,  7.0949e-01,  1.6937e+00, -2.8303e-01],\n",
       "        [ 1.8107e+00,  1.1324e+00,  9.3826e-01, -3.6410e-01,  1.2071e+00],\n",
       "        [ 2.4401e-01,  2.2725e-01,  9.5753e-01,  1.1472e+00, -3.9060e-01],\n",
       "        [ 2.0045e+00,  1.2042e+00,  1.6822e+00,  1.1892e+00,  2.7219e+00],\n",
       "        [ 7.7012e-01,  1.5624e-01,  4.6932e-02,  1.8331e+00,  1.4548e+00],\n",
       "        [ 1.3963e+00,  7.0276e-01,  2.0996e+00,  1.3577e+00,  7.2780e-01],\n",
       "        [ 2.1233e+00,  2.3017e+00,  2.0670e+00,  4.5610e-01,  6.5558e-02],\n",
       "        [ 5.1475e-01,  1.7906e+00, -1.7624e-01,  2.2553e+00,  1.7600e+00],\n",
       "        [ 2.4725e+00,  7.2845e-01,  2.2106e+00,  3.1242e-01,  1.3100e+00],\n",
       "        [ 1.5357e+00,  6.9910e-01,  1.9683e+00,  1.2998e+00,  1.0551e+00],\n",
       "        [ 4.7171e-01,  6.8146e-01,  1.6691e+00,  1.3691e+00,  1.1949e+00],\n",
       "        [ 2.0952e-01,  1.4869e+00,  1.7307e+00,  8.8917e-01,  1.0056e+00],\n",
       "        [ 8.4152e-01,  1.8271e+00,  1.6257e+00,  1.1460e+00,  1.9324e+00],\n",
       "        [ 7.5347e-01,  2.9440e+00,  8.5577e-02,  2.3850e+00,  1.5050e+00],\n",
       "        [ 6.1560e-01, -3.9110e-01,  5.3163e-02,  1.0099e+00,  9.8619e-01],\n",
       "        [ 1.7199e+00,  3.3003e+00,  2.0480e-01,  2.9850e+00,  2.6902e+00],\n",
       "        [ 1.7411e+00,  2.0162e+00,  1.1404e+00,  3.1368e+00,  2.4272e+00],\n",
       "        [ 5.6587e-01,  4.8227e-01,  1.5776e+00,  1.6502e+00, -2.3252e-01],\n",
       "        [ 6.1832e-01,  4.4307e-01,  1.9422e+00, -4.9818e-01, -1.1164e+00],\n",
       "        [ 1.5139e+00, -4.6816e-01,  7.9402e-01, -4.3732e-01,  2.1078e+00],\n",
       "        [ 1.4238e+00,  2.3584e+00, -2.6688e-01,  1.6086e+00,  1.3404e+00],\n",
       "        [ 2.1327e-01,  2.3960e+00,  4.3810e-01, -6.2657e-01,  7.8783e-01],\n",
       "        [ 9.8114e-01, -2.7597e-01,  1.6621e+00,  1.3618e+00, -7.5817e-01],\n",
       "        [-1.8523e+00, -1.2905e-01, -2.7049e-01, -8.5607e-01,  2.5359e-03],\n",
       "        [ 1.4899e+00,  1.6922e+00,  1.4672e+00, -1.0646e+00,  1.4489e+00],\n",
       "        [ 9.2252e-01,  1.8495e+00,  1.9486e-02, -2.2569e-01,  8.7715e-01],\n",
       "        [ 2.6869e+00,  1.6359e+00,  1.2258e+00,  1.7235e-01,  3.2101e+00],\n",
       "        [-2.8526e-01,  6.7523e-01,  6.2929e-01,  5.4988e-01,  1.0504e+00],\n",
       "        [ 4.8018e-02,  1.2998e+00,  5.2104e-01,  1.0439e+00,  6.1247e-01],\n",
       "        [ 2.2618e+00,  1.0187e+00,  1.9381e+00, -5.3052e-01,  8.2873e-01],\n",
       "        [ 1.0338e+00,  1.2382e+00,  2.0132e+00,  1.8334e+00,  8.2018e-02],\n",
       "        [ 6.8068e-01,  3.8349e-01,  1.6927e+00,  2.1680e+00,  1.0030e+00],\n",
       "        [ 5.0563e-01,  1.6547e+00,  5.3083e-02,  6.0343e-01,  1.3775e+00],\n",
       "        [ 7.1810e-01, -1.5335e-01,  2.0487e+00,  1.7197e+00,  1.0961e+00],\n",
       "        [ 3.0071e+00,  1.7993e+00,  5.1882e-01,  1.9811e+00,  1.3305e+00],\n",
       "        [ 5.3813e-01,  1.4044e+00, -7.3609e-02,  1.5362e+00,  1.2538e+00],\n",
       "        [ 3.3900e+00, -5.0798e-01,  2.1562e+00,  1.5692e+00,  1.0421e+00],\n",
       "        [ 1.7121e+00,  1.9988e+00,  1.8150e-01,  1.5119e+00,  6.8232e-01],\n",
       "        [ 1.6855e+00,  1.0131e+00,  1.5651e+00, -1.8047e-01, -1.5544e-01],\n",
       "        [ 9.7212e-01,  1.2543e+00,  2.4034e-02,  1.3291e+00, -1.0427e+00],\n",
       "        [ 1.2392e+00,  7.8170e-01, -4.7740e-02,  6.9905e-01,  1.1263e+00],\n",
       "        [ 2.0761e+00,  2.1279e+00,  1.2956e+00,  1.7917e+00,  7.0464e-01],\n",
       "        [ 3.9168e+00,  2.6283e-01,  3.4269e+00,  4.2240e-01,  1.2086e+00],\n",
       "        [ 8.4903e-01,  9.0218e-01,  3.0461e-01,  3.5994e-01,  5.2428e-01],\n",
       "        [ 6.0868e-02,  7.1468e-01,  2.6206e+00,  2.6307e+00,  2.5105e+00],\n",
       "        [ 7.5209e-01,  1.0061e+00,  3.6689e-01,  2.1344e+00,  7.1261e-01],\n",
       "        [ 2.1860e+00,  2.3076e+00,  1.3782e+00,  1.6260e+00,  1.5493e+00],\n",
       "        [ 7.5062e-01,  4.9689e-01,  1.7198e+00,  3.8361e-02,  2.2495e+00],\n",
       "        [ 1.8663e+00,  1.8690e+00,  1.5402e+00,  1.3651e+00,  1.8659e+00],\n",
       "        [ 1.6661e+00,  1.2729e+00,  1.4786e+00,  9.1598e-01,  7.5095e-01],\n",
       "        [ 2.6922e+00,  1.3768e+00,  3.1434e-01,  1.5058e-01,  3.6923e-01],\n",
       "        [ 2.2466e+00,  1.5587e+00,  2.6558e+00,  2.0152e+00, -4.8128e-01],\n",
       "        [ 1.1163e-03, -4.0098e-01,  1.5763e+00,  1.4251e+00,  1.3444e+00],\n",
       "        [ 2.1440e+00,  1.7131e+00,  1.7735e+00, -1.3684e-01,  5.1592e-01],\n",
       "        [ 8.3359e-01,  1.9117e-01, -1.2226e-01,  6.2241e-01,  1.7043e+00]])"
      ]
     },
     "execution_count": 31,
     "metadata": {},
     "output_type": "execute_result"
    }
   ],
   "source": [
    "train_example"
   ]
  },
  {
   "cell_type": "markdown",
   "metadata": {
    "colab_type": "text",
    "id": "wDjhZBCeTc6o"
   },
   "source": [
    "## `requires_grad_()`\n",
    "\n",
    "You can also tell PyTorch that it needs to calculate the gradient with respect to a tensor that you created by saying `example_tensor.requires_grad_()`, which will change it in-place. This means that even if PyTorch wouldn't normally store a grad for that particular tensor, it will for that specified tensor. "
   ]
  },
  {
   "cell_type": "markdown",
   "metadata": {
    "colab_type": "text",
    "id": "mB22ovHyUEvH"
   },
   "source": [
    "## `with torch.no_grad():`\n",
    "\n",
    "PyTorch will usually calculate the gradients as it proceeds through a set of operations on tensors. This can often take up unnecessary computations and memory, especially if you're performing an evaluation. However, you can wrap a piece of code with `with torch.no_grad()` to prevent the gradients from being calculated in a piece of code. "
   ]
  },
  {
   "cell_type": "markdown",
   "metadata": {
    "colab_type": "text",
    "id": "kowb1M425CE_"
   },
   "source": [
    "\n",
    "## `detach():`\n",
    "\n",
    "Sometimes, you want to calculate and use a tensor's value without calculating its gradients. For example, if you have two models, A and B, and you want to directly optimize the parameters of A with respect to the output of B, without calculating the gradients through B, then you could feed the detached output of B to A. There are many reasons you might want to do this, including efficiency or cyclical dependencies (i.e. A depends on B depends on A)."
   ]
  },
  {
   "cell_type": "markdown",
   "metadata": {
    "colab_type": "text",
    "id": "-9HY2wgKLOr-"
   },
   "source": [
    "# New `nn` Classes\n",
    "\n",
    "You can also create new classes which extend the `nn` module. For these classes, all class attributes, as in `self.layer` or `self.param` will automatically treated as parameters if they are themselves `nn` objects or if they are tensors wrapped in `nn.Parameter` which are initialized with the class. \n",
    "\n",
    "The `__init__` function defines what will happen when the object is created. The first line of the init function of a class, for example, `WellNamedClass`, needs to be `super(WellNamedClass, self).__init__()`. \n",
    "\n",
    "The `forward` function defines what runs if you create that object `model` and pass it a tensor `x`, as in `model(x)`. If you choose the function signature, `(self, x)`, then each call of the forward function, gets two pieces of information: `self`, which is a reference to the object with which you can access all of its parameters, and `x`, which is the current tensor for which you'd like to return `y`.\n",
    "\n",
    "One class might look like the following:"
   ]
  },
  {
   "cell_type": "code",
   "execution_count": 43,
   "metadata": {
    "colab": {},
    "colab_type": "code",
    "id": "WOip473tQs-d"
   },
   "outputs": [],
   "source": [
    "class ExampleModule(nn.Module):\n",
    "    def __init__(self, input_dims, output_dims):\n",
    "        super(ExampleModule, self).__init__()\n",
    "        self.linear = nn.Linear(input_dims, output_dims)\n",
    "        self.exponent = nn.Parameter(torch.tensor(1.))\n",
    "\n",
    "    def forward(self, x):\n",
    "        x = self.linear(x)\n",
    "\n",
    "        # This is the notation for element-wise exponentiation, \n",
    "        # which matches python in general\n",
    "        x = x ** self.exponent \n",
    "        \n",
    "        return x"
   ]
  },
  {
   "cell_type": "markdown",
   "metadata": {
    "colab_type": "text",
    "id": "x4CUFH_GS5UY"
   },
   "source": [
    "And you can view its parameters as follows"
   ]
  },
  {
   "cell_type": "code",
   "execution_count": 44,
   "metadata": {
    "colab": {
     "base_uri": "https://localhost:8080/",
     "height": 136
    },
    "colab_type": "code",
    "id": "YuelIiE4S3KR",
    "outputId": "27a52620-ca40-4dc8-dff5-4f3a56ba0e5b"
   },
   "outputs": [
    {
     "data": {
      "text/plain": [
       "[Parameter containing:\n",
       " tensor(1., requires_grad=True),\n",
       " Parameter containing:\n",
       " tensor([[-0.1906, -0.2012, -0.1015,  0.1441, -0.1378,  0.0826,  0.2447,  0.1768,\n",
       "           0.1195,  0.2648],\n",
       "         [ 0.3024,  0.2952, -0.2314, -0.1754, -0.1935,  0.0440,  0.2003,  0.1727,\n",
       "          -0.2109, -0.2354]], requires_grad=True),\n",
       " Parameter containing:\n",
       " tensor([0.1636, 0.2630], requires_grad=True)]"
      ]
     },
     "execution_count": 44,
     "metadata": {},
     "output_type": "execute_result"
    }
   ],
   "source": [
    "example_model = ExampleModule(10, 2)\n",
    "list(example_model.parameters())"
   ]
  },
  {
   "cell_type": "markdown",
   "metadata": {
    "colab_type": "text",
    "id": "1F7E1wKN5tez"
   },
   "source": [
    "And you can print out their names too, as follows:"
   ]
  },
  {
   "cell_type": "code",
   "execution_count": 28,
   "metadata": {
    "colab": {
     "base_uri": "https://localhost:8080/",
     "height": 153
    },
    "colab_type": "code",
    "id": "dYTuTDsQ5pnY",
    "outputId": "6635a493-7318-4688-bd18-bfba41d43e9d"
   },
   "outputs": [
    {
     "data": {
      "text/plain": [
       "[('exponent',\n",
       "  Parameter containing:\n",
       "  tensor(1., requires_grad=True)),\n",
       " ('linear.weight',\n",
       "  Parameter containing:\n",
       "  tensor([[ 0.2789,  0.2618, -0.0678,  0.2766,  0.1436,  0.0917, -0.1669, -0.1887,\n",
       "            0.0913, -0.1998],\n",
       "          [-0.1757,  0.0361,  0.1140,  0.2152, -0.1200,  0.1712,  0.0944, -0.0447,\n",
       "            0.1548,  0.2383]], requires_grad=True)),\n",
       " ('linear.bias',\n",
       "  Parameter containing:\n",
       "  tensor([ 0.1881, -0.0834], requires_grad=True))]"
      ]
     },
     "execution_count": 28,
     "metadata": {},
     "output_type": "execute_result"
    }
   ],
   "source": [
    "list(example_model.named_parameters())"
   ]
  },
  {
   "cell_type": "markdown",
   "metadata": {
    "colab_type": "text",
    "id": "iWPoIqX2UsaH"
   },
   "source": [
    "And here's an example of the class in action:"
   ]
  },
  {
   "cell_type": "code",
   "execution_count": 47,
   "metadata": {
    "colab": {
     "base_uri": "https://localhost:8080/",
     "height": 51
    },
    "colab_type": "code",
    "id": "7NXwbg5tUroC",
    "outputId": "0836e447-7c37-464e-b196-048ae0a0cc73"
   },
   "outputs": [
    {
     "data": {
      "text/plain": [
       "tensor([[0.1989, 0.3196],\n",
       "        [0.3677, 0.5240]], grad_fn=<PowBackward1>)"
      ]
     },
     "execution_count": 47,
     "metadata": {},
     "output_type": "execute_result"
    }
   ],
   "source": [
    "input = torch.randn(2, 10)\n",
    "example_model(input)"
   ]
  },
  {
   "cell_type": "markdown",
   "metadata": {
    "colab_type": "text",
    "id": "6Ocol8DABScy"
   },
   "source": [
    "# 2D Operations\n",
    "\n",
    "You won't need these for the first lesson, and the theory behind each of these will be reviewed more in later lectures, but here is a quick reference: \n",
    "\n",
    "\n",
    "*   2D convolutions: [`nn.Conv2d`](https://pytorch.org/docs/master/generated/torch.nn.Conv2d.html) requires the number of input and output channels, as well as the kernel size.\n",
    "*   2D transposed convolutions (aka deconvolutions): [`nn.ConvTranspose2d`](https://pytorch.org/docs/master/generated/torch.nn.ConvTranspose2d.html) also requires the number of input and output channels, as well as the kernel size\n",
    "*   2D batch normalization: [`nn.BatchNorm2d`](https://pytorch.org/docs/stable/generated/torch.nn.BatchNorm2d.html) requires the number of input dimensions\n",
    "*   Resizing images: [`nn.Upsample`](https://pytorch.org/docs/master/generated/torch.nn.Upsample.html) requires the final size or a scale factor. Alternatively, [`nn.functional.interpolate`](https://pytorch.org/docs/stable/nn.functional.html#torch.nn.functional.interpolate) takes the same arguments. \n",
    "\n",
    "\n",
    "\n"
   ]
  }
 ],
 "metadata": {
  "colab": {
   "collapsed_sections": [],
   "name": "Intro to PyTorch.ipynb",
   "provenance": [],
   "toc_visible": true
  },
  "kernelspec": {
   "display_name": "Python 3",
   "language": "python",
   "name": "python3"
  },
  "language_info": {
   "codemirror_mode": {
    "name": "ipython",
    "version": 3
   },
   "file_extension": ".py",
   "mimetype": "text/x-python",
   "name": "python",
   "nbconvert_exporter": "python",
   "pygments_lexer": "ipython3",
   "version": "3.7.9"
  }
 },
 "nbformat": 4,
 "nbformat_minor": 1
}
